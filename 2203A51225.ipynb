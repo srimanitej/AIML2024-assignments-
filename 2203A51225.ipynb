{
  "nbformat": 4,
  "nbformat_minor": 0,
  "metadata": {
    "colab": {
      "provenance": []
    },
    "kernelspec": {
      "name": "python3",
      "display_name": "Python 3"
    },
    "language_info": {
      "name": "python"
    }
  },
  "cells": [
    {
      "cell_type": "code",
      "execution_count": null,
      "metadata": {
        "colab": {
          "base_uri": "https://localhost:8080/"
        },
        "id": "1O7p64AioTS4",
        "outputId": "0eae1997-67d1-45cf-f3c0-d325ba712784"
      },
      "outputs": [
        {
          "output_type": "stream",
          "name": "stdout",
          "text": [
            "[19 28 17]\n"
          ]
        }
      ],
      "source": [
        "#part-1\n",
        "#1\n",
        "import numpy as np\n",
        "l1=[11,16,7]\n",
        "l2=[8,12,10]\n",
        "array1=np.array(l1)\n",
        "array2=np.array(l2)\n",
        "sum=array1+array2\n",
        "print(sum)\n",
        "\n"
      ]
    },
    {
      "cell_type": "code",
      "source": [
        "import numpy as np\n",
        "\n",
        "l1=[[1,2,3],\n",
        "    [4,5,6],\n",
        "        [7,8,9]]\n",
        "l2=[[2,3,4],\n",
        "            [5,6,7],\n",
        "                [7,9,4]]\n",
        "\n",
        "array1=np.array(l1)\n",
        "array2=np.array(l2)\n",
        "sum_matrix=array1+array2\n",
        "print(\"Sum:\\n\", sum_matrix)\n",
        "# Determinant\n",
        "det = np.linalg.det(sum_matrix)\n",
        "print(\"\\nDeterminant:\", det)\n",
        "# Transpose\n",
        "transpose = np.transpose(sum_matrix)\n",
        "print(\"Transpose:\\n\", transpose)\n",
        "diagonal = np.diag(sum_matrix)\n",
        "print(\"Diagonal:\",diagonal)"
      ],
      "metadata": {
        "colab": {
          "base_uri": "https://localhost:8080/"
        },
        "id": "Ea_GKzhqpTlY",
        "outputId": "0b5329fc-9d9f-41aa-dc63-dcaf477af9d5"
      },
      "execution_count": 10,
      "outputs": [
        {
          "output_type": "stream",
          "name": "stdout",
          "text": [
            "Sum:\n",
            " [[ 3  5  7]\n",
            " [ 9 11 13]\n",
            " [14 17 13]]\n",
            "\n",
            "Determinant: 83.9999999999999\n",
            "Transpose:\n",
            " [[ 3  9 14]\n",
            " [ 5 11 17]\n",
            " [ 7 13 13]]\n",
            "Diagonal: [ 3 11 13]\n"
          ]
        }
      ]
    },
    {
      "cell_type": "code",
      "source": [
        "#3\n",
        "print(type(l1))\n",
        "print(type(array1))"
      ],
      "metadata": {
        "colab": {
          "base_uri": "https://localhost:8080/"
        },
        "id": "EmXn24HHqN1M",
        "outputId": "61d74bb1-c69b-4da1-f44a-9fd51836ab68"
      },
      "execution_count": 15,
      "outputs": [
        {
          "output_type": "stream",
          "name": "stdout",
          "text": [
            "<class 'list'>\n",
            "<class 'numpy.ndarray'>\n"
          ]
        }
      ]
    },
    {
      "cell_type": "code",
      "source": [
        "#4\n",
        "a1 = np.array([12,2,23,14,25])\n",
        "a2 = np.array([34,57,18,9,11])\n",
        "\n",
        "print(a1*a2)\n",
        "\n",
        "print(a1/a2)\n",
        "\n",
        "print(a1**a2)"
      ],
      "metadata": {
        "colab": {
          "base_uri": "https://localhost:8080/"
        },
        "id": "blHPitimqmNA",
        "outputId": "e0db6713-69c7-4527-c25a-869c2c10ab5a"
      },
      "execution_count": 12,
      "outputs": [
        {
          "output_type": "stream",
          "name": "stdout",
          "text": [
            "[408 114 414 126 275]\n",
            "[0.35294118 0.03508772 1.27777778 1.55555556 2.27272727]\n",
            "[                   0   144115188075855872 -4183371755719199087\n",
            "          20661046784     2384185791015625]\n"
          ]
        }
      ]
    },
    {
      "cell_type": "code",
      "source": [
        " #5\n",
        " print(f\"Addition of Two: {a1 +a2}\")"
      ],
      "metadata": {
        "colab": {
          "base_uri": "https://localhost:8080/"
        },
        "id": "yacyj4ggqpWd",
        "outputId": "74691ac5-2dd6-43d5-f7e0-58e49c786f30"
      },
      "execution_count": 14,
      "outputs": [
        {
          "output_type": "stream",
          "name": "stdout",
          "text": [
            "Addition of Two: [46 59 41 23 36]\n"
          ]
        }
      ]
    },
    {
      "cell_type": "code",
      "source": [
        "#6\n",
        "print(np.sin(array1))\n",
        "print(np.log(array1))\n",
        "print(np.log2(array1))\n",
        "print(np.exp(array1))"
      ],
      "metadata": {
        "colab": {
          "base_uri": "https://localhost:8080/"
        },
        "id": "yxvgxwWYqyEL",
        "outputId": "b6718015-5af5-4596-b4e0-d0fb63606b35"
      },
      "execution_count": 16,
      "outputs": [
        {
          "output_type": "stream",
          "name": "stdout",
          "text": [
            "[[ 0.84147098  0.90929743  0.14112001]\n",
            " [-0.7568025  -0.95892427 -0.2794155 ]\n",
            " [ 0.6569866   0.98935825  0.41211849]]\n",
            "[[0.         0.69314718 1.09861229]\n",
            " [1.38629436 1.60943791 1.79175947]\n",
            " [1.94591015 2.07944154 2.19722458]]\n",
            "[[0.         1.         1.5849625 ]\n",
            " [2.         2.32192809 2.5849625 ]\n",
            " [2.80735492 3.         3.169925  ]]\n",
            "[[2.71828183e+00 7.38905610e+00 2.00855369e+01]\n",
            " [5.45981500e+01 1.48413159e+02 4.03428793e+02]\n",
            " [1.09663316e+03 2.98095799e+03 8.10308393e+03]]\n"
          ]
        }
      ]
    },
    {
      "cell_type": "code",
      "source": [
        "#part-2\n",
        "#1\n",
        "import matplotlib.pyplot as plt\n",
        "\n",
        "people = ['karan','siddhu','kiran','rohan']\n",
        "age = [25, 30, 35, 40]\n",
        "height = [145, 151, 165, 173]\n",
        "weight = [45,55,65,75]"
      ],
      "metadata": {
        "id": "WrAC3Cihq1eU"
      },
      "execution_count": 17,
      "outputs": []
    },
    {
      "cell_type": "code",
      "source": [
        "#2\n",
        "plt.figure(figsize=(8, 6))\n",
        "plt.scatter(height, weight)\n",
        "plt.title('Scatter plot: Height vs Weight')\n",
        "plt.xlabel('Height')\n",
        "plt.ylabel('Weight')\n",
        "plt.show()"
      ],
      "metadata": {
        "colab": {
          "base_uri": "https://localhost:8080/",
          "height": 564
        },
        "id": "uFoBnrl1q6pf",
        "outputId": "503b4a19-9b1d-4b16-a3a6-06467c7512ce"
      },
      "execution_count": 18,
      "outputs": [
        {
          "output_type": "display_data",
          "data": {
            "text/plain": [
              "<Figure size 800x600 with 1 Axes>"
            ],
            "image/png": "[encoded data removed]"
          },
          "metadata": {}
        }
      ]
    },
    {
      "cell_type": "code",
      "source": [
        "#3\n",
        "plt.figure(figsize=(8, 6))\n",
        "plt.bar(people, age, color='red')\n",
        "plt.title('Bar chart: Age of People')\n",
        "plt.xlabel('People')\n",
        "plt.ylabel('Age')\n",
        "plt.show()"
      ],
      "metadata": {
        "colab": {
          "base_uri": "https://localhost:8080/",
          "height": 564
        },
        "id": "90CDaxtiq8ie",
        "outputId": "1311bcce-bf40-41ce-fc08-44593d55dca0"
      },
      "execution_count": 19,
      "outputs": [
        {
          "output_type": "display_data",
          "data": {
            "text/plain": [
              "<Figure size 800x600 with 1 Axes>"
            ],
            "image/png": "[encoded data removed]"
          },
          "metadata": {}
        }
      ]
    },
    {
      "cell_type": "code",
      "source": [
        "#4\n",
        "plt.figure(figsize=(6, 4))\n",
        "plt.hist(height, bins=5, color='orange', edgecolor='red')\n",
        "plt.title('Histogram: Distribution of Heights')\n",
        "plt.xlabel('Height')\n",
        "plt.ylabel('Frequency')\n",
        "plt.show()"
      ],
      "metadata": {
        "colab": {
          "base_uri": "https://localhost:8080/",
          "height": 410
        },
        "id": "XbJtlCuNrAPI",
        "outputId": "9b26125e-f357-4f60-defc-658601e28c79"
      },
      "execution_count": 20,
      "outputs": [
        {
          "output_type": "display_data",
          "data": {
            "text/plain": [
              "<Figure size 600x400 with 1 Axes>"
            ],
            "image/png": "[encoded data removed]"
          },
          "metadata": {}
        }
      ]
    },
    {
      "cell_type": "code",
      "source": [
        "from google.colab import drive\n",
        "drive.mount('/content/drive')"
      ],
      "metadata": {
        "colab": {
          "base_uri": "https://localhost:8080/"
        },
        "id": "X3W1EJXrrEJB",
        "outputId": "b203307a-b610-4f6f-b2b1-2860ff853fd5"
      },
      "execution_count": 21,
      "outputs": [
        {
          "output_type": "stream",
          "name": "stdout",
          "text": [
            "Drive already mounted at /content/drive; to attempt to forcibly remount, call drive.mount(\"/content/drive\", force_remount=True).\n"
          ]
        }
      ]
    },
    {
      "cell_type": "code",
      "source": [
        "import pandas as pd\n",
        "tsv_file_path = '/content/drive/MyDrive/aiml/sample-2.tsv'\n",
        "tsv_data = pd.read_csv(tsv_file_path, sep='\\t')\n",
        "print(tsv_data)"
      ],
      "metadata": {
        "colab": {
          "base_uri": "https://localhost:8080/"
        },
        "id": "3LbxfvRyrTJE",
        "outputId": "6a5605a0-aea9-4acb-d3e0-da124527a820"
      },
      "execution_count": 29,
      "outputs": [
        {
          "output_type": "stream",
          "name": "stdout",
          "text": [
            "    Unnamed: 0                                         Unnamed: 1 Unnamed: 2\n",
            "0          NaN                              Annual budget tracker        NaN\n",
            "1          NaN  Plan and track your monthly spending for the e...        NaN\n",
            "2          NaN                                                NaN        NaN\n",
            "3          NaN                                                NaN        NaN\n",
            "4          NaN                           How to use this template        NaN\n",
            "5          1.0  Get started by entering your starting balance ...        NaN\n",
            "6          2.0  Then, fill out the 'Expenses' and 'Income' tabs.         NaN\n",
            "7          3.0  Feel free to rename or delete categories in th...        NaN\n",
            "8          NaN                                                NaN        NaN\n",
            "9          NaN                                                NaN        NaN\n",
            "10         NaN                                          Configure        NaN\n",
            "11         NaN                                  Starting balance:     $5,000\n"
          ]
        }
      ]
    },
    {
      "cell_type": "code",
      "source": [
        "import pandas as pd\n",
        "t=pd.read_csv('/content/sample_data/california_housing_test.csv')\n",
        "print(t)\n"
      ],
      "metadata": {
        "colab": {
          "base_uri": "https://localhost:8080/"
        },
        "id": "cdxVaO75ru9e",
        "outputId": "acb1e0b7-aac6-4c5d-d5e7-e53799408aff"
      },
      "execution_count": 25,
      "outputs": [
        {
          "output_type": "stream",
          "name": "stdout",
          "text": [
            "      longitude  latitude  housing_median_age  total_rooms  total_bedrooms  \\\n",
            "0       -122.05     37.37                27.0       3885.0           661.0   \n",
            "1       -118.30     34.26                43.0       1510.0           310.0   \n",
            "2       -117.81     33.78                27.0       3589.0           507.0   \n",
            "3       -118.36     33.82                28.0         67.0            15.0   \n",
            "4       -119.67     36.33                19.0       1241.0           244.0   \n",
            "...         ...       ...                 ...          ...             ...   \n",
            "2995    -119.86     34.42                23.0       1450.0           642.0   \n",
            "2996    -118.14     34.06                27.0       5257.0          1082.0   \n",
            "2997    -119.70     36.30                10.0        956.0           201.0   \n",
            "2998    -117.12     34.10                40.0         96.0            14.0   \n",
            "2999    -119.63     34.42                42.0       1765.0           263.0   \n",
            "\n",
            "      population  households  median_income  median_house_value  \n",
            "0         1537.0       606.0         6.6085            344700.0  \n",
            "1          809.0       277.0         3.5990            176500.0  \n",
            "2         1484.0       495.0         5.7934            270500.0  \n",
            "3           49.0        11.0         6.1359            330000.0  \n",
            "4          850.0       237.0         2.9375             81700.0  \n",
            "...          ...         ...            ...                 ...  \n",
            "2995      1258.0       607.0         1.1790            225000.0  \n",
            "2996      3496.0      1036.0         3.3906            237200.0  \n",
            "2997       693.0       220.0         2.2895             62000.0  \n",
            "2998        46.0        14.0         3.2708            162500.0  \n",
            "2999       753.0       260.0         8.5608            500001.0  \n",
            "\n",
            "[3000 rows x 9 columns]\n"
          ]
        }
      ]
    },
    {
      "cell_type": "code",
      "source": [
        "import pandas as pd\n",
        "data = pd.read_excel('/content/drive/MyDrive/aiml/file_example_XLSX_50.xlsx')\n",
        "print(data)"
      ],
      "metadata": {
        "colab": {
          "base_uri": "https://localhost:8080/"
        },
        "id": "-3rA7hJWr0xR",
        "outputId": "4cd56c3e-c91b-42fa-888f-e99682655d55"
      },
      "execution_count": 26,
      "outputs": [
        {
          "output_type": "stream",
          "name": "stdout",
          "text": [
            "     0 First Name   Last Name  Gender        Country  Age        Date    Id\n",
            "0    1      Dulce       Abril  Female  United States   32  15/10/2017  1562\n",
            "1    2       Mara   Hashimoto  Female  Great Britain   25  16/08/2016  1582\n",
            "2    3     Philip        Gent    Male         France   36  21/05/2015  2587\n",
            "3    4   Kathleen      Hanner  Female  United States   25  15/10/2017  3549\n",
            "4    5    Nereida     Magwood  Female  United States   58  16/08/2016  2468\n",
            "5    6     Gaston       Brumm    Male  United States   24  21/05/2015  2554\n",
            "6    7       Etta        Hurn  Female  Great Britain   56  15/10/2017  3598\n",
            "7    8    Earlean      Melgar  Female  United States   27  16/08/2016  2456\n",
            "8    9   Vincenza     Weiland  Female  United States   40  21/05/2015  6548\n",
            "9   10     Fallon     Winward  Female  Great Britain   28  16/08/2016  5486\n",
            "10  11    Arcelia      Bouska  Female  Great Britain   39  21/05/2015  1258\n",
            "11  12   Franklyn      Unknow    Male         France   38  15/10/2017  2579\n",
            "12  13    Sherron    Ascencio  Female  Great Britain   32  16/08/2016  3256\n",
            "13  14     Marcel   Zabriskie    Male  Great Britain   26  21/05/2015  2587\n",
            "14  15       Kina    Hazelton  Female  Great Britain   31  16/08/2016  3259\n",
            "15  16   Shavonne         Pia  Female         France   24  21/05/2015  1546\n",
            "16  17     Shavon      Benito  Female         France   39  15/10/2017  3579\n",
            "17  18   Lauralee     Perrine  Female  Great Britain   28  16/08/2016  6597\n",
            "18  19     Loreta      Curren  Female         France   26  21/05/2015  9654\n",
            "19  20     Teresa      Strawn  Female         France   46  21/05/2015  3569\n",
            "20  21    Belinda     Partain  Female  United States   37  15/10/2017  2564\n",
            "21  22      Holly        Eudy  Female  United States   52  16/08/2016  8561\n",
            "22  23       Many      Cuccia  Female  Great Britain   46  21/05/2015  5489\n",
            "23  24     Libbie       Dalby  Female         France   42  21/05/2015  5489\n",
            "24  25     Lester     Prothro    Male         France   21  15/10/2017  6574\n",
            "25  26     Marvel        Hail  Female  Great Britain   28  16/08/2016  5555\n",
            "26  27    Angelyn        Vong  Female  United States   29  21/05/2015  6125\n",
            "27  28  Francesca   Beaudreau  Female         France   23  15/10/2017  5412\n",
            "28  29      Garth       Gangi    Male  United States   41  16/08/2016  3256\n",
            "29  30      Carla    Trumbull  Female  Great Britain   28  21/05/2015  3264\n",
            "30  31       Veta       Muntz  Female  Great Britain   37  15/10/2017  4569\n",
            "31  32     Stasia      Becker  Female  Great Britain   34  16/08/2016  7521\n",
            "32  33       Jona     Grindle  Female  Great Britain   26  21/05/2015  6458\n",
            "33  34      Judie    Claywell  Female         France   35  16/08/2016  7569\n",
            "34  35     Dewitt      Borger    Male  United States   36  21/05/2015  8514\n",
            "35  36       Nena      Hacker  Female  United States   29  15/10/2017  8563\n",
            "36  37     Kelsie     Wachtel  Female         France   27  16/08/2016  8642\n",
            "37  38        Sau        Pfau  Female  United States   25  21/05/2015  9536\n",
            "38  39    Shanice   Mccrystal  Female  United States   36  21/05/2015  2567\n",
            "39  40      Chase      Karner    Male  United States   37  15/10/2017  2154\n",
            "40  41     Tommie   Underdahl    Male  United States   26  16/08/2016  3265\n",
            "41  42     Dorcas      Darity  Female  United States   37  21/05/2015  8765\n",
            "42  43      Angel       Sanor    Male         France   24  15/10/2017  3259\n",
            "43  44  Willodean        Harn  Female  United States   39  16/08/2016  3567\n",
            "44  45     Weston     Martina    Male  United States   26  21/05/2015  6540\n",
            "45  46       Roma  Lafollette  Female  United States   34  15/10/2017  2654\n",
            "46  47     Felisa        Cail  Female  United States   28  16/08/2016  6525\n",
            "47  48   Demetria       Abbey  Female  United States   32  21/05/2015  3265\n",
            "48  49     Jeromy        Danz    Male  United States   39  15/10/2017  3265\n",
            "49  50   Rasheeda      Alkire  Female  United States   29  16/08/2016  6125\n"
          ]
        }
      ]
    },
    {
      "cell_type": "code",
      "source": [
        "import pandas as pd\n",
        "\n",
        "url = \"https://raw.githubusercontent.com/cs109/2014_data/master/countries.csv\"\n",
        "data = pd.read_csv(url)\n",
        "\n",
        "print(data.head())"
      ],
      "metadata": {
        "colab": {
          "base_uri": "https://localhost:8080/"
        },
        "id": "WSwe33JbsJKE",
        "outputId": "b317abee-3fcc-462c-e80a-680983b28d51"
      },
      "execution_count": 27,
      "outputs": [
        {
          "output_type": "stream",
          "name": "stdout",
          "text": [
            "    Country  Region\n",
            "0   Algeria  AFRICA\n",
            "1    Angola  AFRICA\n",
            "2     Benin  AFRICA\n",
            "3  Botswana  AFRICA\n",
            "4   Burkina  AFRICA\n"
          ]
        }
      ]
    }
  ]
}